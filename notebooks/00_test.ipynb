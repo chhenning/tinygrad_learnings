{
 "cells": [
  {
   "cell_type": "code",
   "execution_count": 1,
   "id": "3e19bd4d",
   "metadata": {},
   "outputs": [
    {
     "name": "stdout",
     "output_type": "stream",
     "text": [
      "opened device METAL from pid:44463\n"
     ]
    }
   ],
   "source": [
    "import os\n",
    "\n",
    "os.environ['DEBUG'] = '2'\n",
    "\n",
    "\n",
    "from tinygrad import Device\n",
    "assert Device.DEFAULT == 'METAL'\n",
    "\n"
   ]
  },
  {
   "cell_type": "code",
   "execution_count": 2,
   "id": "afc1004f",
   "metadata": {},
   "outputs": [
    {
     "name": "stdout",
     "output_type": "stream",
     "text": [
      "opened device PYTHON from pid:44463\n"
     ]
    }
   ],
   "source": [
    "from tinygrad.tensor import Tensor, dtypes\n",
    "\n",
    "t = Tensor([1, 2, 3, 4])\n",
    "assert t.device == Device.DEFAULT\n",
    "assert t.shape == (4,)\n",
    "assert t.dtype == dtypes.int"
   ]
  },
  {
   "cell_type": "code",
   "execution_count": 3,
   "id": "bf053891",
   "metadata": {},
   "outputs": [
    {
     "data": {
      "text/plain": [
       "UOp(Ops.COPY, dtypes.int, arg=None, src=(\n",
       "  UOp(Ops.BUFFER, dtypes.int, arg=4, src=(\n",
       "    UOp(Ops.UNIQUE, dtypes.void, arg=0, src=()),\n",
       "    UOp(Ops.DEVICE, dtypes.void, arg='PYTHON', src=()),)),\n",
       "  UOp(Ops.DEVICE, dtypes.void, arg='METAL', src=()),))"
      ]
     },
     "execution_count": 3,
     "metadata": {},
     "output_type": "execute_result"
    }
   ],
   "source": [
    "t.uop"
   ]
  },
  {
   "cell_type": "code",
   "execution_count": 4,
   "id": "a49d3400",
   "metadata": {},
   "outputs": [
    {
     "name": "stdout",
     "output_type": "stream",
     "text": [
      "\u001b[32m*** METAL      1\u001b[0m \u001b[33mcopy       16,   METAL <- PYTHON \u001b[0m         arg  2 mem  0.00 GB tm    152.79us/     0.15ms (     0.00 GFLOPS    0.0|0.0     GB/s) \n",
      "<Tensor <UOp METAL (4,) int (<Ops.BUFFER: 25>, <buf real:True device:METAL size:4 dtype:dtypes.int>)> on METAL with grad None>\n",
      "UOp(Ops.BUFFER, dtypes.int, arg=4, src=(\n",
      "  UOp(Ops.UNIQUE, dtypes.void, arg=1, src=()),\n",
      "  UOp(Ops.DEVICE, dtypes.void, arg='METAL', src=()),))\n"
     ]
    }
   ],
   "source": [
    "print(t.realize())\n",
    "print(t.uop)\n"
   ]
  }
 ],
 "metadata": {
  "kernelspec": {
   "display_name": ".venv",
   "language": "python",
   "name": "python3"
  },
  "language_info": {
   "codemirror_mode": {
    "name": "ipython",
    "version": 3
   },
   "file_extension": ".py",
   "mimetype": "text/x-python",
   "name": "python",
   "nbconvert_exporter": "python",
   "pygments_lexer": "ipython3",
   "version": "3.12.8"
  }
 },
 "nbformat": 4,
 "nbformat_minor": 5
}
